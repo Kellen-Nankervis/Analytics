{
  "nbformat": 4,
  "nbformat_minor": 0,
  "metadata": {
    "colab": {
      "provenance": []
    },
    "kernelspec": {
      "name": "python3",
      "display_name": "Python 3"
    },
    "language_info": {
      "name": "python"
    }
  },
  "cells": [
    {
      "cell_type": "code",
      "source": [
        "from google.colab import drive\n",
        "drive.mount(\"/content/drive\")"
      ],
      "metadata": {
        "colab": {
          "base_uri": "https://localhost:8080/"
        },
        "id": "gGIbTBG1HT5k",
        "outputId": "790f642e-abf5-44ee-d20c-ccde3e6171d0"
      },
      "execution_count": null,
      "outputs": [
        {
          "output_type": "stream",
          "name": "stdout",
          "text": [
            "Mounted at /content/drive\n"
          ]
        }
      ]
    },
    {
      "cell_type": "code",
      "source": [
        "import os\n",
        "os.listdir('drive/MyDrive/ANLY6100/')"
      ],
      "metadata": {
        "colab": {
          "base_uri": "https://localhost:8080/"
        },
        "id": "HMGy-_RqHhHD",
        "outputId": "8864cdb9-ba9f-41c7-fe4a-14a2469b18eb"
      },
      "execution_count": null,
      "outputs": [
        {
          "output_type": "execute_result",
          "data": {
            "text/plain": [
              "['Notes.ipynb',\n",
              " 'A1 Kellen Nankervis.ipynb',\n",
              " 'Untitled0.ipynb',\n",
              " 'A1_Kellen_Nankervis Part 2.ipynb']"
            ]
          },
          "metadata": {},
          "execution_count": 2
        }
      ]
    }
  ]
}