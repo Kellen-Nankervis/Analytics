{
  "nbformat": 4,
  "nbformat_minor": 0,
  "metadata": {
    "colab": {
      "provenance": []
    },
    "kernelspec": {
      "name": "python3",
      "display_name": "Python 3"
    },
    "language_info": {
      "name": "python"
    }
  },
  "cells": [
    {
      "cell_type": "markdown",
      "source": [
        "# <center> Résumé of Kellen Nankervis </center>\n",
        "\n",
        "## Contact\n",
        "Email: [knankervis21@gmail.com](mailto:knankervis21@gmail.com)\n",
        "\n",
        "[LinkedIn](https://www.linkedin.com/in/kellen-nankervis-7a5697240/)\n",
        "\n",
        "[GitHub](https://github.com/Kellen-Nankervis)\n",
        "\n",
        "## Summary\n",
        "I am Kellen Nankervis an undergraduate student at SUU who is currently studying math and computer science. I have a particular intereset in data and it's applications.\n",
        "\n",
        "---\n",
        "\n",
        "## Education\n",
        "**High School Diploma** 2020\\\n",
        "*Yucca Valley High School, Yucca Valley, CA*\n",
        "\n",
        "---\n",
        "\n",
        "## Work Experience\n",
        "**Testing Assistant** 2022-Current\n",
        "\n",
        "---\n",
        "\n",
        "## Skills\n",
        "**Computing** Python, Java, Microsoft Office\n",
        "\n",
        "---\n",
        "\n",
        "## Professional Interests\n",
        "\n",
        "Big data, sports, algorithms, and data structures"
      ],
      "metadata": {
        "id": "bblnoaUVqYQ2"
      }
    }
  ]
}